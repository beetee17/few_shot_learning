{
 "metadata": {
  "language_info": {
   "codemirror_mode": {
    "name": "ipython",
    "version": 3
   },
   "file_extension": ".py",
   "mimetype": "text/x-python",
   "name": "python",
   "nbconvert_exporter": "python",
   "pygments_lexer": "ipython3",
   "version": "3.9.4-final"
  },
  "orig_nbformat": 2,
  "kernelspec": {
   "name": "python394jvsc74a57bd0dcacb0086e9a4f4eabd41c33bf4faac5ea0a3337ed3f5eff0680afa930572c04",
   "display_name": "Python 3.9.4 64-bit"
  }
 },
 "nbformat": 4,
 "nbformat_minor": 2,
 "cells": [
  {
   "cell_type": "code",
   "execution_count": 1,
   "metadata": {},
   "outputs": [
    {
     "output_type": "stream",
     "name": "stdout",
     "text": [
      "INFO:tensorflow:Enabling eager execution\n",
      "INFO:tensorflow:Enabling v2 tensorshape\n",
      "INFO:tensorflow:Enabling resource variables\n",
      "INFO:tensorflow:Enabling tensor equality\n",
      "INFO:tensorflow:Enabling control flow v2\n"
     ]
    }
   ],
   "source": [
    "import numpy as np\n",
    "import os\n",
    "import random\n",
    "from sys import platform as sys_pf\n",
    "import matplotlib\n",
    "if sys_pf == 'darwin':\n",
    "\tmatplotlib.use(\"TkAgg\")\n",
    "from matplotlib import pyplot as plt\n",
    "\n",
    "import keras\n",
    "from keras.models import Sequential, Model\n",
    "from keras.layers import Flatten, Conv2D, MaxPooling2D, Dense, Concatenate, Dot, Lambda, Input\n",
    "from tensorflow.keras import initializers\n",
    "from tensorflow.keras.regularizers import l2\n",
    "from keras.optimizers import Adam\n",
    "from keras import backend as K"
   ]
  },
  {
   "cell_type": "code",
   "execution_count": 2,
   "metadata": {},
   "outputs": [],
   "source": [
    "img_dir = r'C:\\Users\\Admin\\few_shot_learning\\keras-one-shot\\images_background'\n",
    "alphabet_names = [a for a in os.listdir(img_dir) if a[0] != '.'] # get folder names\n",
    "\n",
    "def load_img(fn):\n",
    "\tI = plt.imread(fn)\n",
    "\tI = np.array(I)\n",
    "\treturn I\n",
    "# convert to str and add leading zero to single digit numbers\n",
    "def num2str(idx):\n",
    "\tif idx < 10:\n",
    "\t\treturn '0'+str(idx)\n",
    "\treturn str(idx)"
   ]
  },
  {
   "cell_type": "code",
   "execution_count": 3,
   "metadata": {},
   "outputs": [
    {
     "output_type": "stream",
     "name": "stdout",
     "text": [
      "generating figure 1 of 1\n"
     ]
    },
    {
     "output_type": "display_data",
     "data": {
      "text/plain": "<Figure size 720x576 with 1 Axes>",
      "image/svg+xml": "<?xml version=\"1.0\" encoding=\"utf-8\" standalone=\"no\"?>\r\n<!DOCTYPE svg PUBLIC \"-//W3C//DTD SVG 1.1//EN\"\r\n  \"http://www.w3.org/Graphics/SVG/1.1/DTD/svg11.dtd\">\r\n<svg height=\"154.506505pt\" version=\"1.1\" viewBox=\"0 0 153.629565 154.506505\" width=\"153.629565pt\" xmlns=\"http://www.w3.org/2000/svg\" xmlns:xlink=\"http://www.w3.org/1999/xlink\">\r\n <metadata>\r\n  <rdf:RDF xmlns:cc=\"http://creativecommons.org/ns#\" xmlns:dc=\"http://purl.org/dc/elements/1.1/\" xmlns:rdf=\"http://www.w3.org/1999/02/22-rdf-syntax-ns#\">\r\n   <cc:Work>\r\n    <dc:type rdf:resource=\"http://purl.org/dc/dcmitype/StillImage\"/>\r\n    <dc:date>2021-04-07T17:27:34.414144</dc:date>\r\n    <dc:format>image/svg+xml</dc:format>\r\n    <dc:creator>\r\n     <cc:Agent>\r\n      <dc:title>Matplotlib v3.4.1, https://matplotlib.org/</dc:title>\r\n     </cc:Agent>\r\n    </dc:creator>\r\n   </cc:Work>\r\n  </rdf:RDF>\r\n </metadata>\r\n <defs>\r\n  <style type=\"text/css\">*{stroke-linecap:butt;stroke-linejoin:round;}</style>\r\n </defs>\r\n <g id=\"figure_1\">\r\n  <g id=\"patch_1\">\r\n   <path d=\"M 0 154.506505 \r\nL 153.629565 154.506505 \r\nL 153.629565 0 \r\nL 0 0 \r\nz\r\n\" style=\"fill:none;\"/>\r\n  </g>\r\n  <g id=\"axes_1\">\r\n   <g id=\"patch_2\">\r\n    <path d=\"M 33.2875 130.62838 \r\nL 127.82663 130.62838 \r\nL 127.82663 36.08925 \r\nL 33.2875 36.08925 \r\nz\r\n\" style=\"fill:#ffffff;\"/>\r\n   </g>\r\n   <g clip-path=\"url(#p7b0aeaadf5)\">\r\n    <image height=\"95\" id=\"image9cbe19b65f\" transform=\"scale(1 -1)translate(0 -95)\" width=\"95\" x=\"33.2875\" xlink:href=\"data:image/png;base64,\r\niVBORw0KGgoAAAANSUhEUgAAAF8AAABfCAYAAACOTBv1AAAErklEQVR4nO2bTSh0XxzHv3cYMYYF8hYpycsUWckCZWHyspBsLJBIzUJhI6zkJSVRFNmM1CRKyYZmZYGajbGZkJrZKFlMzcjLeD/Pbv7/eQyPGXPvb8z8PjWLe+bcc77zmds5M/ecKwkhBBgSVNQBohmWTwjLJ4TlE8LyCWH5hLB8Qlg+ISyfEJZPCMsnhOUTwvIJYfmEsHxCWD4hLJ8Qlk8IyyeE5RPC8glh+YSwfEJYPiEsnxCWTwjLJ4TlE8LyCWH5hLB8Qlg+ISyfEJZPCMsnhOUTEitn4589a+d0OpGfny9Ln+Pj4xgYGPApkyRJlr5+iiTH04jv7+8wmUzo6ur6tI6cD0H+X7YkSbi5uUFMTAwSEhK+3cbr6yseHx99yrRabcgyAgCEDBwdHQkAYfXKy8sL6DMsLS19aOP29jaknmQZ85OSklBQUCBH00Hz9PQEm81GHcMHWcb80tJSTE5Ooq2t7ct6mZmZqK6uDlm/drsdVqvV73vX19dobW3F2toaKisrQ9bnT5Btwi0uLsbQ0NCXdYqKitDd3R2yPi0WC7a3t73Hy8vLuL299R5fXFzAYDBgYWEBNTU1Ies3WGSZcMMFk8mEnp4ePD8/+5SXl5djcXERVVVVn55rs9lwcHDgU9bb24vY2BBeryGdQcIQs9nsdwJeWVmhjibPhBtO1NXVhe3v/IiXL0kSHA4HdQy/RLx8AEhLS6OO4JeokB+usHxCWD4hLJ+QqJA/NjZGHcEvES9fCIG5uTnqGH6JePn+6OjoQHNzM3WMyJev0+k+LNzk5OQgIyODKNF/RLT8kpISnJ+fU8f4HOqbS3Lw+PgoKioqPtxMU6lUorOzkzqel4iT73a7RVNT0wfxMTExoqWlhTqeDxEj3+12C4vFItrb20OyhqsEsm4dkRshBLa2tgAAJycnmJ6e9lsvNjYWjY2NSkb7Fr9SvtFohNPpxNvbG0ZHR/9Zf3h4GBMTEwokCwzZ5a+vr+Pw8BAAMDMzE/TeF7PZjJ2dHQDAxsYGXC7XP8+ZmppCSkoKDAZDUH3Kjpxj2ubmpsjNzfWOu7W1teL19TWgNk5PT0V9fb0oLCz89h6dkZERsbe3Jzwej0yfLDTIeuXb7XZcXl56j/f39/3uVJufn4fRaPTbxsPDQ0ArUYODgxgeHkZycnLggRVG8TE/Kyvrw5rq3d0dPB5PUO2lpqbi7OzMe6zVagPaFkiJ4vKdTmfQ56pUKqhUKhwfH6OkpMRbrlarQxFNcWS9vaDRaBAfH//jduLi4pCWlobV1VW8vLygrKwMarXa+/qtyHrl9/f3w+VyYXZ2Fvf395/WS09P/3KRu6GhAbOzs3JEpEWJWX1kZEQkJib6/CLRarVCr9cLvV4vNjc3lYgRdih2e0Gn0/nIz87OFru7u0p1H5Yodkt5YGAAGo3Ge3x1dYW+vj7vH6doRDH5vb29PvIBwOFwwGw2KxUh7IjoxZRwR1H5Vqs1tFusfzmKmsjNzYUkSWG7a1hpFH844u/uovmLUHwMiGbZf8MTLiEsnxCWTwjLJ4TlE8LyCWH5hLB8Qlg+ISyfEJZPCMsnhOUTwvIJYfmEsHxCWD4hfwDA+J59muIvSwAAAABJRU5ErkJggg==\" y=\"-35.62838\"/>\r\n   </g>\r\n   <g id=\"matplotlib.axis_1\">\r\n    <g id=\"xtick_1\">\r\n     <g id=\"line2d_1\">\r\n      <defs>\r\n       <path d=\"M 0 0 \r\nL 0 3.5 \r\n\" id=\"m46536d18a2\" style=\"stroke:#000000;stroke-width:0.8;\"/>\r\n      </defs>\r\n      <g>\r\n       <use style=\"stroke:#000000;stroke-width:0.8;\" x=\"33.737686\" xlink:href=\"#m46536d18a2\" y=\"130.62838\"/>\r\n      </g>\r\n     </g>\r\n     <g id=\"text_1\">\r\n      <!-- 0 -->\r\n      <g transform=\"translate(30.556436 145.226818)scale(0.1 -0.1)\">\r\n       <defs>\r\n        <path d=\"M 2034 4250 \r\nQ 1547 4250 1301 3770 \r\nQ 1056 3291 1056 2328 \r\nQ 1056 1369 1301 889 \r\nQ 1547 409 2034 409 \r\nQ 2525 409 2770 889 \r\nQ 3016 1369 3016 2328 \r\nQ 3016 3291 2770 3770 \r\nQ 2525 4250 2034 4250 \r\nz\r\nM 2034 4750 \r\nQ 2819 4750 3233 4129 \r\nQ 3647 3509 3647 2328 \r\nQ 3647 1150 3233 529 \r\nQ 2819 -91 2034 -91 \r\nQ 1250 -91 836 529 \r\nQ 422 1150 422 2328 \r\nQ 422 3509 836 4129 \r\nQ 1250 4750 2034 4750 \r\nz\r\n\" id=\"DejaVuSans-30\" transform=\"scale(0.015625)\"/>\r\n       </defs>\r\n       <use xlink:href=\"#DejaVuSans-30\"/>\r\n      </g>\r\n     </g>\r\n    </g>\r\n    <g id=\"xtick_2\">\r\n     <g id=\"line2d_2\">\r\n      <g>\r\n       <use style=\"stroke:#000000;stroke-width:0.8;\" x=\"78.75632\" xlink:href=\"#m46536d18a2\" y=\"130.62838\"/>\r\n      </g>\r\n     </g>\r\n     <g id=\"text_2\">\r\n      <!-- 50 -->\r\n      <g transform=\"translate(72.39382 145.226818)scale(0.1 -0.1)\">\r\n       <defs>\r\n        <path d=\"M 691 4666 \r\nL 3169 4666 \r\nL 3169 4134 \r\nL 1269 4134 \r\nL 1269 2991 \r\nQ 1406 3038 1543 3061 \r\nQ 1681 3084 1819 3084 \r\nQ 2600 3084 3056 2656 \r\nQ 3513 2228 3513 1497 \r\nQ 3513 744 3044 326 \r\nQ 2575 -91 1722 -91 \r\nQ 1428 -91 1123 -41 \r\nQ 819 9 494 109 \r\nL 494 744 \r\nQ 775 591 1075 516 \r\nQ 1375 441 1709 441 \r\nQ 2250 441 2565 725 \r\nQ 2881 1009 2881 1497 \r\nQ 2881 1984 2565 2268 \r\nQ 2250 2553 1709 2553 \r\nQ 1456 2553 1204 2497 \r\nQ 953 2441 691 2322 \r\nL 691 4666 \r\nz\r\n\" id=\"DejaVuSans-35\" transform=\"scale(0.015625)\"/>\r\n       </defs>\r\n       <use xlink:href=\"#DejaVuSans-35\"/>\r\n       <use x=\"63.623047\" xlink:href=\"#DejaVuSans-30\"/>\r\n      </g>\r\n     </g>\r\n    </g>\r\n    <g id=\"xtick_3\">\r\n     <g id=\"line2d_3\">\r\n      <g>\r\n       <use style=\"stroke:#000000;stroke-width:0.8;\" x=\"123.774953\" xlink:href=\"#m46536d18a2\" y=\"130.62838\"/>\r\n      </g>\r\n     </g>\r\n     <g id=\"text_3\">\r\n      <!-- 100 -->\r\n      <g transform=\"translate(114.231203 145.226818)scale(0.1 -0.1)\">\r\n       <defs>\r\n        <path d=\"M 794 531 \r\nL 1825 531 \r\nL 1825 4091 \r\nL 703 3866 \r\nL 703 4441 \r\nL 1819 4666 \r\nL 2450 4666 \r\nL 2450 531 \r\nL 3481 531 \r\nL 3481 0 \r\nL 794 0 \r\nL 794 531 \r\nz\r\n\" id=\"DejaVuSans-31\" transform=\"scale(0.015625)\"/>\r\n       </defs>\r\n       <use xlink:href=\"#DejaVuSans-31\"/>\r\n       <use x=\"63.623047\" xlink:href=\"#DejaVuSans-30\"/>\r\n       <use x=\"127.246094\" xlink:href=\"#DejaVuSans-30\"/>\r\n      </g>\r\n     </g>\r\n    </g>\r\n   </g>\r\n   <g id=\"matplotlib.axis_2\">\r\n    <g id=\"ytick_1\">\r\n     <g id=\"line2d_4\">\r\n      <defs>\r\n       <path d=\"M 0 0 \r\nL -3.5 0 \r\n\" id=\"m5c9e29c761\" style=\"stroke:#000000;stroke-width:0.8;\"/>\r\n      </defs>\r\n      <g>\r\n       <use style=\"stroke:#000000;stroke-width:0.8;\" x=\"33.2875\" xlink:href=\"#m5c9e29c761\" y=\"36.539436\"/>\r\n      </g>\r\n     </g>\r\n     <g id=\"text_4\">\r\n      <!-- 0 -->\r\n      <g transform=\"translate(19.925 40.338655)scale(0.1 -0.1)\">\r\n       <use xlink:href=\"#DejaVuSans-30\"/>\r\n      </g>\r\n     </g>\r\n    </g>\r\n    <g id=\"ytick_2\">\r\n     <g id=\"line2d_5\">\r\n      <g>\r\n       <use style=\"stroke:#000000;stroke-width:0.8;\" x=\"33.2875\" xlink:href=\"#m5c9e29c761\" y=\"81.55807\"/>\r\n      </g>\r\n     </g>\r\n     <g id=\"text_5\">\r\n      <!-- 50 -->\r\n      <g transform=\"translate(13.5625 85.357289)scale(0.1 -0.1)\">\r\n       <use xlink:href=\"#DejaVuSans-35\"/>\r\n       <use x=\"63.623047\" xlink:href=\"#DejaVuSans-30\"/>\r\n      </g>\r\n     </g>\r\n    </g>\r\n    <g id=\"ytick_3\">\r\n     <g id=\"line2d_6\">\r\n      <g>\r\n       <use style=\"stroke:#000000;stroke-width:0.8;\" x=\"33.2875\" xlink:href=\"#m5c9e29c761\" y=\"126.576703\"/>\r\n      </g>\r\n     </g>\r\n     <g id=\"text_6\">\r\n      <!-- 100 -->\r\n      <g transform=\"translate(7.2 130.375922)scale(0.1 -0.1)\">\r\n       <use xlink:href=\"#DejaVuSans-31\"/>\r\n       <use x=\"63.623047\" xlink:href=\"#DejaVuSans-30\"/>\r\n       <use x=\"127.246094\" xlink:href=\"#DejaVuSans-30\"/>\r\n      </g>\r\n     </g>\r\n    </g>\r\n   </g>\r\n   <g id=\"patch_3\">\r\n    <path d=\"M 33.2875 130.62838 \r\nL 33.2875 36.08925 \r\n\" style=\"fill:none;stroke:#000000;stroke-linecap:square;stroke-linejoin:miter;stroke-width:0.8;\"/>\r\n   </g>\r\n   <g id=\"patch_4\">\r\n    <path d=\"M 127.82663 130.62838 \r\nL 127.82663 36.08925 \r\n\" style=\"fill:none;stroke:#000000;stroke-linecap:square;stroke-linejoin:miter;stroke-width:0.8;\"/>\r\n   </g>\r\n   <g id=\"patch_5\">\r\n    <path d=\"M 33.2875 130.62838 \r\nL 127.82663 130.62838 \r\n\" style=\"fill:none;stroke:#000000;stroke-linecap:square;stroke-linejoin:miter;stroke-width:0.8;\"/>\r\n   </g>\r\n   <g id=\"patch_6\">\r\n    <path d=\"M 33.2875 36.08925 \r\nL 127.82663 36.08925 \r\n\" style=\"fill:none;stroke:#000000;stroke-linecap:square;stroke-linejoin:miter;stroke-width:0.8;\"/>\r\n   </g>\r\n   <g id=\"text_7\">\r\n    <!-- Alphabet_of_the_Magi -->\r\n    <g transform=\"translate(14.684565 16.318125)scale(0.12 -0.12)\">\r\n     <defs>\r\n      <path d=\"M 2188 4044 \r\nL 1331 1722 \r\nL 3047 1722 \r\nL 2188 4044 \r\nz\r\nM 1831 4666 \r\nL 2547 4666 \r\nL 4325 0 \r\nL 3669 0 \r\nL 3244 1197 \r\nL 1141 1197 \r\nL 716 0 \r\nL 50 0 \r\nL 1831 4666 \r\nz\r\n\" id=\"DejaVuSans-41\" transform=\"scale(0.015625)\"/>\r\n      <path d=\"M 603 4863 \r\nL 1178 4863 \r\nL 1178 0 \r\nL 603 0 \r\nL 603 4863 \r\nz\r\n\" id=\"DejaVuSans-6c\" transform=\"scale(0.015625)\"/>\r\n      <path d=\"M 1159 525 \r\nL 1159 -1331 \r\nL 581 -1331 \r\nL 581 3500 \r\nL 1159 3500 \r\nL 1159 2969 \r\nQ 1341 3281 1617 3432 \r\nQ 1894 3584 2278 3584 \r\nQ 2916 3584 3314 3078 \r\nQ 3713 2572 3713 1747 \r\nQ 3713 922 3314 415 \r\nQ 2916 -91 2278 -91 \r\nQ 1894 -91 1617 61 \r\nQ 1341 213 1159 525 \r\nz\r\nM 3116 1747 \r\nQ 3116 2381 2855 2742 \r\nQ 2594 3103 2138 3103 \r\nQ 1681 3103 1420 2742 \r\nQ 1159 2381 1159 1747 \r\nQ 1159 1113 1420 752 \r\nQ 1681 391 2138 391 \r\nQ 2594 391 2855 752 \r\nQ 3116 1113 3116 1747 \r\nz\r\n\" id=\"DejaVuSans-70\" transform=\"scale(0.015625)\"/>\r\n      <path d=\"M 3513 2113 \r\nL 3513 0 \r\nL 2938 0 \r\nL 2938 2094 \r\nQ 2938 2591 2744 2837 \r\nQ 2550 3084 2163 3084 \r\nQ 1697 3084 1428 2787 \r\nQ 1159 2491 1159 1978 \r\nL 1159 0 \r\nL 581 0 \r\nL 581 4863 \r\nL 1159 4863 \r\nL 1159 2956 \r\nQ 1366 3272 1645 3428 \r\nQ 1925 3584 2291 3584 \r\nQ 2894 3584 3203 3211 \r\nQ 3513 2838 3513 2113 \r\nz\r\n\" id=\"DejaVuSans-68\" transform=\"scale(0.015625)\"/>\r\n      <path d=\"M 2194 1759 \r\nQ 1497 1759 1228 1600 \r\nQ 959 1441 959 1056 \r\nQ 959 750 1161 570 \r\nQ 1363 391 1709 391 \r\nQ 2188 391 2477 730 \r\nQ 2766 1069 2766 1631 \r\nL 2766 1759 \r\nL 2194 1759 \r\nz\r\nM 3341 1997 \r\nL 3341 0 \r\nL 2766 0 \r\nL 2766 531 \r\nQ 2569 213 2275 61 \r\nQ 1981 -91 1556 -91 \r\nQ 1019 -91 701 211 \r\nQ 384 513 384 1019 \r\nQ 384 1609 779 1909 \r\nQ 1175 2209 1959 2209 \r\nL 2766 2209 \r\nL 2766 2266 \r\nQ 2766 2663 2505 2880 \r\nQ 2244 3097 1772 3097 \r\nQ 1472 3097 1187 3025 \r\nQ 903 2953 641 2809 \r\nL 641 3341 \r\nQ 956 3463 1253 3523 \r\nQ 1550 3584 1831 3584 \r\nQ 2591 3584 2966 3190 \r\nQ 3341 2797 3341 1997 \r\nz\r\n\" id=\"DejaVuSans-61\" transform=\"scale(0.015625)\"/>\r\n      <path d=\"M 3116 1747 \r\nQ 3116 2381 2855 2742 \r\nQ 2594 3103 2138 3103 \r\nQ 1681 3103 1420 2742 \r\nQ 1159 2381 1159 1747 \r\nQ 1159 1113 1420 752 \r\nQ 1681 391 2138 391 \r\nQ 2594 391 2855 752 \r\nQ 3116 1113 3116 1747 \r\nz\r\nM 1159 2969 \r\nQ 1341 3281 1617 3432 \r\nQ 1894 3584 2278 3584 \r\nQ 2916 3584 3314 3078 \r\nQ 3713 2572 3713 1747 \r\nQ 3713 922 3314 415 \r\nQ 2916 -91 2278 -91 \r\nQ 1894 -91 1617 61 \r\nQ 1341 213 1159 525 \r\nL 1159 0 \r\nL 581 0 \r\nL 581 4863 \r\nL 1159 4863 \r\nL 1159 2969 \r\nz\r\n\" id=\"DejaVuSans-62\" transform=\"scale(0.015625)\"/>\r\n      <path d=\"M 3597 1894 \r\nL 3597 1613 \r\nL 953 1613 \r\nQ 991 1019 1311 708 \r\nQ 1631 397 2203 397 \r\nQ 2534 397 2845 478 \r\nQ 3156 559 3463 722 \r\nL 3463 178 \r\nQ 3153 47 2828 -22 \r\nQ 2503 -91 2169 -91 \r\nQ 1331 -91 842 396 \r\nQ 353 884 353 1716 \r\nQ 353 2575 817 3079 \r\nQ 1281 3584 2069 3584 \r\nQ 2775 3584 3186 3129 \r\nQ 3597 2675 3597 1894 \r\nz\r\nM 3022 2063 \r\nQ 3016 2534 2758 2815 \r\nQ 2500 3097 2075 3097 \r\nQ 1594 3097 1305 2825 \r\nQ 1016 2553 972 2059 \r\nL 3022 2063 \r\nz\r\n\" id=\"DejaVuSans-65\" transform=\"scale(0.015625)\"/>\r\n      <path d=\"M 1172 4494 \r\nL 1172 3500 \r\nL 2356 3500 \r\nL 2356 3053 \r\nL 1172 3053 \r\nL 1172 1153 \r\nQ 1172 725 1289 603 \r\nQ 1406 481 1766 481 \r\nL 2356 481 \r\nL 2356 0 \r\nL 1766 0 \r\nQ 1100 0 847 248 \r\nQ 594 497 594 1153 \r\nL 594 3053 \r\nL 172 3053 \r\nL 172 3500 \r\nL 594 3500 \r\nL 594 4494 \r\nL 1172 4494 \r\nz\r\n\" id=\"DejaVuSans-74\" transform=\"scale(0.015625)\"/>\r\n      <path d=\"M 3263 -1063 \r\nL 3263 -1509 \r\nL -63 -1509 \r\nL -63 -1063 \r\nL 3263 -1063 \r\nz\r\n\" id=\"DejaVuSans-5f\" transform=\"scale(0.015625)\"/>\r\n      <path d=\"M 1959 3097 \r\nQ 1497 3097 1228 2736 \r\nQ 959 2375 959 1747 \r\nQ 959 1119 1226 758 \r\nQ 1494 397 1959 397 \r\nQ 2419 397 2687 759 \r\nQ 2956 1122 2956 1747 \r\nQ 2956 2369 2687 2733 \r\nQ 2419 3097 1959 3097 \r\nz\r\nM 1959 3584 \r\nQ 2709 3584 3137 3096 \r\nQ 3566 2609 3566 1747 \r\nQ 3566 888 3137 398 \r\nQ 2709 -91 1959 -91 \r\nQ 1206 -91 779 398 \r\nQ 353 888 353 1747 \r\nQ 353 2609 779 3096 \r\nQ 1206 3584 1959 3584 \r\nz\r\n\" id=\"DejaVuSans-6f\" transform=\"scale(0.015625)\"/>\r\n      <path d=\"M 2375 4863 \r\nL 2375 4384 \r\nL 1825 4384 \r\nQ 1516 4384 1395 4259 \r\nQ 1275 4134 1275 3809 \r\nL 1275 3500 \r\nL 2222 3500 \r\nL 2222 3053 \r\nL 1275 3053 \r\nL 1275 0 \r\nL 697 0 \r\nL 697 3053 \r\nL 147 3053 \r\nL 147 3500 \r\nL 697 3500 \r\nL 697 3744 \r\nQ 697 4328 969 4595 \r\nQ 1241 4863 1831 4863 \r\nL 2375 4863 \r\nz\r\n\" id=\"DejaVuSans-66\" transform=\"scale(0.015625)\"/>\r\n      <path d=\"M 628 4666 \r\nL 1569 4666 \r\nL 2759 1491 \r\nL 3956 4666 \r\nL 4897 4666 \r\nL 4897 0 \r\nL 4281 0 \r\nL 4281 4097 \r\nL 3078 897 \r\nL 2444 897 \r\nL 1241 4097 \r\nL 1241 0 \r\nL 628 0 \r\nL 628 4666 \r\nz\r\n\" id=\"DejaVuSans-4d\" transform=\"scale(0.015625)\"/>\r\n      <path d=\"M 2906 1791 \r\nQ 2906 2416 2648 2759 \r\nQ 2391 3103 1925 3103 \r\nQ 1463 3103 1205 2759 \r\nQ 947 2416 947 1791 \r\nQ 947 1169 1205 825 \r\nQ 1463 481 1925 481 \r\nQ 2391 481 2648 825 \r\nQ 2906 1169 2906 1791 \r\nz\r\nM 3481 434 \r\nQ 3481 -459 3084 -895 \r\nQ 2688 -1331 1869 -1331 \r\nQ 1566 -1331 1297 -1286 \r\nQ 1028 -1241 775 -1147 \r\nL 775 -588 \r\nQ 1028 -725 1275 -790 \r\nQ 1522 -856 1778 -856 \r\nQ 2344 -856 2625 -561 \r\nQ 2906 -266 2906 331 \r\nL 2906 616 \r\nQ 2728 306 2450 153 \r\nQ 2172 0 1784 0 \r\nQ 1141 0 747 490 \r\nQ 353 981 353 1791 \r\nQ 353 2603 747 3093 \r\nQ 1141 3584 1784 3584 \r\nQ 2172 3584 2450 3431 \r\nQ 2728 3278 2906 2969 \r\nL 2906 3500 \r\nL 3481 3500 \r\nL 3481 434 \r\nz\r\n\" id=\"DejaVuSans-67\" transform=\"scale(0.015625)\"/>\r\n      <path d=\"M 603 3500 \r\nL 1178 3500 \r\nL 1178 0 \r\nL 603 0 \r\nL 603 3500 \r\nz\r\nM 603 4863 \r\nL 1178 4863 \r\nL 1178 4134 \r\nL 603 4134 \r\nL 603 4863 \r\nz\r\n\" id=\"DejaVuSans-69\" transform=\"scale(0.015625)\"/>\r\n     </defs>\r\n     <use xlink:href=\"#DejaVuSans-41\"/>\r\n     <use x=\"68.408203\" xlink:href=\"#DejaVuSans-6c\"/>\r\n     <use x=\"96.191406\" xlink:href=\"#DejaVuSans-70\"/>\r\n     <use x=\"159.667969\" xlink:href=\"#DejaVuSans-68\"/>\r\n     <use x=\"223.046875\" xlink:href=\"#DejaVuSans-61\"/>\r\n     <use x=\"284.326172\" xlink:href=\"#DejaVuSans-62\"/>\r\n     <use x=\"347.802734\" xlink:href=\"#DejaVuSans-65\"/>\r\n     <use x=\"409.326172\" xlink:href=\"#DejaVuSans-74\"/>\r\n     <use x=\"448.535156\" xlink:href=\"#DejaVuSans-5f\"/>\r\n     <use x=\"498.535156\" xlink:href=\"#DejaVuSans-6f\"/>\r\n     <use x=\"559.716797\" xlink:href=\"#DejaVuSans-66\"/>\r\n     <use x=\"594.921875\" xlink:href=\"#DejaVuSans-5f\"/>\r\n     <use x=\"644.921875\" xlink:href=\"#DejaVuSans-74\"/>\r\n     <use x=\"684.130859\" xlink:href=\"#DejaVuSans-68\"/>\r\n     <use x=\"747.509766\" xlink:href=\"#DejaVuSans-65\"/>\r\n     <use x=\"809.033203\" xlink:href=\"#DejaVuSans-5f\"/>\r\n     <use x=\"859.033203\" xlink:href=\"#DejaVuSans-4d\"/>\r\n     <use x=\"945.3125\" xlink:href=\"#DejaVuSans-61\"/>\r\n     <use x=\"1006.591797\" xlink:href=\"#DejaVuSans-67\"/>\r\n     <use x=\"1070.068359\" xlink:href=\"#DejaVuSans-69\"/>\r\n    </g>\r\n    <!--  character 6 -->\r\n    <g transform=\"translate(44.194253 30.08925)scale(0.12 -0.12)\">\r\n     <defs>\r\n      <path id=\"DejaVuSans-20\" transform=\"scale(0.015625)\"/>\r\n      <path d=\"M 3122 3366 \r\nL 3122 2828 \r\nQ 2878 2963 2633 3030 \r\nQ 2388 3097 2138 3097 \r\nQ 1578 3097 1268 2742 \r\nQ 959 2388 959 1747 \r\nQ 959 1106 1268 751 \r\nQ 1578 397 2138 397 \r\nQ 2388 397 2633 464 \r\nQ 2878 531 3122 666 \r\nL 3122 134 \r\nQ 2881 22 2623 -34 \r\nQ 2366 -91 2075 -91 \r\nQ 1284 -91 818 406 \r\nQ 353 903 353 1747 \r\nQ 353 2603 823 3093 \r\nQ 1294 3584 2113 3584 \r\nQ 2378 3584 2631 3529 \r\nQ 2884 3475 3122 3366 \r\nz\r\n\" id=\"DejaVuSans-63\" transform=\"scale(0.015625)\"/>\r\n      <path d=\"M 2631 2963 \r\nQ 2534 3019 2420 3045 \r\nQ 2306 3072 2169 3072 \r\nQ 1681 3072 1420 2755 \r\nQ 1159 2438 1159 1844 \r\nL 1159 0 \r\nL 581 0 \r\nL 581 3500 \r\nL 1159 3500 \r\nL 1159 2956 \r\nQ 1341 3275 1631 3429 \r\nQ 1922 3584 2338 3584 \r\nQ 2397 3584 2469 3576 \r\nQ 2541 3569 2628 3553 \r\nL 2631 2963 \r\nz\r\n\" id=\"DejaVuSans-72\" transform=\"scale(0.015625)\"/>\r\n      <path d=\"M 2113 2584 \r\nQ 1688 2584 1439 2293 \r\nQ 1191 2003 1191 1497 \r\nQ 1191 994 1439 701 \r\nQ 1688 409 2113 409 \r\nQ 2538 409 2786 701 \r\nQ 3034 994 3034 1497 \r\nQ 3034 2003 2786 2293 \r\nQ 2538 2584 2113 2584 \r\nz\r\nM 3366 4563 \r\nL 3366 3988 \r\nQ 3128 4100 2886 4159 \r\nQ 2644 4219 2406 4219 \r\nQ 1781 4219 1451 3797 \r\nQ 1122 3375 1075 2522 \r\nQ 1259 2794 1537 2939 \r\nQ 1816 3084 2150 3084 \r\nQ 2853 3084 3261 2657 \r\nQ 3669 2231 3669 1497 \r\nQ 3669 778 3244 343 \r\nQ 2819 -91 2113 -91 \r\nQ 1303 -91 875 529 \r\nQ 447 1150 447 2328 \r\nQ 447 3434 972 4092 \r\nQ 1497 4750 2381 4750 \r\nQ 2619 4750 2861 4703 \r\nQ 3103 4656 3366 4563 \r\nz\r\n\" id=\"DejaVuSans-36\" transform=\"scale(0.015625)\"/>\r\n     </defs>\r\n     <use xlink:href=\"#DejaVuSans-20\"/>\r\n     <use x=\"31.787109\" xlink:href=\"#DejaVuSans-63\"/>\r\n     <use x=\"86.767578\" xlink:href=\"#DejaVuSans-68\"/>\r\n     <use x=\"150.146484\" xlink:href=\"#DejaVuSans-61\"/>\r\n     <use x=\"211.425781\" xlink:href=\"#DejaVuSans-72\"/>\r\n     <use x=\"252.539062\" xlink:href=\"#DejaVuSans-61\"/>\r\n     <use x=\"313.818359\" xlink:href=\"#DejaVuSans-63\"/>\r\n     <use x=\"368.798828\" xlink:href=\"#DejaVuSans-74\"/>\r\n     <use x=\"408.007812\" xlink:href=\"#DejaVuSans-65\"/>\r\n     <use x=\"469.53125\" xlink:href=\"#DejaVuSans-72\"/>\r\n     <use x=\"510.644531\" xlink:href=\"#DejaVuSans-20\"/>\r\n     <use x=\"542.431641\" xlink:href=\"#DejaVuSans-36\"/>\r\n    </g>\r\n   </g>\r\n  </g>\r\n </g>\r\n <defs>\r\n  <clipPath id=\"p7b0aeaadf5\">\r\n   <rect height=\"94.53913\" width=\"94.53913\" x=\"33.2875\" y=\"36.08925\"/>\r\n  </clipPath>\r\n </defs>\r\n</svg>\r\n",
      "image/png": "[encoded data removed]"
     },
     "metadata": {
      "needs_background": "light"
     }
    }
   ],
   "source": [
    "num_alphabets = 1\n",
    "num_samples = 1\n",
    "for a in range(num_alphabets): # for each alphabet\n",
    "        print('generating figure ' + str(a+1) + ' of ' + str(num_alphabets))\n",
    "        alpha_name = alphabet_names[a]\n",
    "        \n",
    "        # choose a random character from the alphabet\n",
    "        character_id = random.randint(1,len(os.listdir(os.path.join(img_dir,alpha_name))))\n",
    "\n",
    "        # get image directory for this character\n",
    "        img_char_dir = os.path.join(img_dir,alpha_name,'character'+num2str(character_id))\n",
    "\n",
    "\n",
    "        # get base file name for this character\n",
    "        fn_example = os.listdir(img_char_dir)[0]\n",
    "        fn_base = fn_example[:fn_example.find('_')] \n",
    "\n",
    "        plt.figure(a,figsize=(10,8))\n",
    "        plt.clf()\n",
    "        for r in range(1,num_samples+1): # for each rendition\n",
    "            plt.subplot(4,5,r)\n",
    "            fn_img = img_char_dir + '/' + fn_base + '_' + num2str(r) + '.png'\t\t\t\n",
    "            I = load_img(fn_img)\n",
    "            plt.imshow(I, cmap='gray')\n",
    "            if r==1:\n",
    "                plt.title(alpha_name[:20] + '\\n character ' + str(character_id))\n"
   ]
  },
  {
   "cell_type": "code",
   "execution_count": 4,
   "metadata": {},
   "outputs": [],
   "source": [
    "def load_data(alphabet_names):\n",
    "    X = np.array([])\n",
    "    Y = np.array([])\n",
    "    for alpha_name in alphabet_names:\n",
    "        char_ids = range(1,len(os.listdir(os.path.join(img_dir,alpha_name))) + 1)\n",
    "        # get image directory for this character\n",
    "        for char_id in char_ids:\n",
    "            img_char_dir = os.path.join(img_dir,alpha_name,'character'+num2str(char_id))\n",
    "            # get list of individual file names for each sample of a character\n",
    "            img_fns = os.listdir(img_char_dir)\n",
    "            # np arrays containing data of all samples of a character\n",
    "            data = np.array([plt.imread(os.path.join(img_char_dir, fn)) for fn in img_fns])\n",
    "            for i in range(len(img_fns)):\n",
    "              Y = np.append(Y, alpha_name + '_character'+num2str(char_id)) # within alphabet discrimination\n",
    "              # Y = np.append(Y, alpha_name) # between alphabet discrimination\n",
    "            if X.size == 0:\n",
    "                X = data\n",
    "            else:\n",
    "                X = np.vstack((X, data))\n",
    "\n",
    "        \n",
    "    return X, Y\n",
    "\n"
   ]
  },
  {
   "cell_type": "code",
   "execution_count": 5,
   "metadata": {},
   "outputs": [],
   "source": [
    "def make_pairs(X, Y):\n",
    "\n",
    "    pairs = []\n",
    "    labels = []\n",
    "\n",
    "    for i in range(len(X)):\n",
    "        # choose a matching sample\n",
    "        x1 = X[i]\n",
    "        class_ = Y[i]\n",
    "\n",
    "        # get possible indices where x2 is same class as x1\n",
    "        J = [j for j, y in enumerate(Y) if y == class_]\n",
    "        j = np.random.choice(J)\n",
    "\n",
    "        x2 = X[j]\n",
    "\n",
    "        pairs += [[x1, x2]]\n",
    "        labels += [1]\n",
    "\n",
    "        # get non-match\n",
    "        # get possible indices where x2 is different from x1\n",
    "        J = [j for j, y in enumerate(Y) if y != class_]\n",
    "        j = np.random.choice(J)\n",
    "\n",
    "        x2 = X[j]\n",
    "\n",
    "        pairs += [[x1, x2]]\n",
    "        labels += [0]\n",
    "        \n",
    "    return np.array(pairs), np.array(labels)\n",
    "\n",
    "\n"
   ]
  },
  {
   "cell_type": "code",
   "execution_count": 6,
   "metadata": {
    "tags": []
   },
   "outputs": [],
   "source": [
    "train_alphabets = alphabet_names[:5] # get first n alphabets (classes)\n",
    "test_alphabets = alphabet_names[len(alphabet_names)-2:]\n",
    "\n",
    "X_train, Y_train = load_data(train_alphabets)\n",
    "X_test, Y_test = load_data(test_alphabets)\n",
    "\n",
    "train_pairs, train_labels = make_pairs(X_train, Y_train)\n",
    "train_pairs, train_labels = make_pairs(X_test, Y_test)\n",
    "\n",
    "for i in range(10):\n",
    "    print(labels[i])\n",
    "    fig = plt.figure()\n",
    "\n",
    "    plt.subplot(2,2,1)\n",
    "    plt.imshow(train_pairs[i][0])\n",
    "    plt.subplot(2,2,2)\n",
    "    plt.imshow(train_pairs[i][1])\n",
    "\n"
   ]
  },
  {
   "cell_type": "code",
   "execution_count": 7,
   "metadata": {},
   "outputs": [
    {
     "output_type": "stream",
     "name": "stdout",
     "text": [
      "(2880, 2, 105, 105)\n"
     ]
    }
   ],
   "source": [
    "print(train_pairs.shape)"
   ]
  },
  {
   "source": [
    "def get_siamese_model(input_shape):\n",
    "    \"\"\"\n",
    "        Model architecture\n",
    "    \"\"\"\n",
    "\n",
    "    # Define the tensors for the two input images\n",
    "    left_input = Input(input_shape)\n",
    "    right_input = Input(input_shape)\n",
    "\n",
    "    # Convolutional Neural Network\n",
    "    model = Sequential()\n",
    "    model.add(Conv2D(64, (10,10), activation='relu', input_shape=input_shape,\n",
    "                    kernel_initializer='random_normal', kernel_regularizer=l2(2e-4)))\n",
    "    model.add(MaxPooling2D())\n",
    "    # model.add(Conv2D(128, (7,7), activation='relu',\n",
    "    #                     kernel_initializer='random_normal',\n",
    "    #                     bias_initializer='zeros', kernel_regularizer=l2(2e-4)))\n",
    "    # model.add(MaxPooling2D())\n",
    "    # model.add(Conv2D(128, (4,4), activation='relu', kernel_initializer='random_normal',\n",
    "    #                     bias_initializer='zeros', kernel_regularizer=l2(2e-4)))\n",
    "    # model.add(MaxPooling2D())\n",
    "    # model.add(Conv2D(256, (4,4), activation='relu', kernel_initializer='random_normal',\n",
    "    #                     bias_initializer='zeros', kernel_regularizer=l2(2e-4)))\n",
    "    model.add(Flatten())\n",
    "    model.add(Dense(4096, activation='sigmoid',\n",
    "                    kernel_regularizer=l2(1e-3),\n",
    "                    kernel_initializer='random_normal',bias_initializer='zeros'))\n",
    "\n",
    "    # Generate the encodings (feature vectors) for the two images\n",
    "    encoded_l = model(left_input)\n",
    "    encoded_r = model(right_input)\n",
    "\n",
    "    # Add a customized layer to compute the absolute difference between the encodings\n",
    "    L1_layer = Lambda(lambda tensors:K.abs(tensors[0] - tensors[1]))\n",
    "    L1_distance = L1_layer([encoded_l, encoded_r])\n",
    "\n",
    "    # Add a dense layer with a sigmoid unit to generate the similarity score\n",
    "    prediction = Dense(1,activation='sigmoid',bias_initializer='zeros')(L1_distance)\n",
    "\n",
    "    # Connect the inputs with the outputs\n",
    "    siamese_net = Model(inputs=[left_input,right_input],outputs=prediction)\n",
    "\n",
    "    # return the model\n",
    "    return siamese_net"
   ],
   "cell_type": "code",
   "metadata": {},
   "execution_count": 10,
   "outputs": []
  },
  {
   "cell_type": "code",
   "execution_count": 11,
   "metadata": {},
   "outputs": [
    {
     "output_type": "stream",
     "name": "stdout",
     "text": [
      "Model: \"model_1\"\n__________________________________________________________________________________________________\nLayer (type)                    Output Shape         Param #     Connected to                     \n==================================================================================================\ninput_3 (InputLayer)            [(None, 105, 105, 1) 0                                            \n__________________________________________________________________________________________________\ninput_4 (InputLayer)            [(None, 105, 105, 1) 0                                            \n__________________________________________________________________________________________________\nsequential_1 (Sequential)       (None, 4096)         603990336   input_3[0][0]                    \n                                                                 input_4[0][0]                    \n__________________________________________________________________________________________________\nlambda_1 (Lambda)               (None, 4096)         0           sequential_1[0][0]               \n                                                                 sequential_1[1][0]               \n__________________________________________________________________________________________________\ndense_3 (Dense)                 (None, 1)            4097        lambda_1[0][0]                   \n==================================================================================================\nTotal params: 603,994,433\nTrainable params: 603,994,433\nNon-trainable params: 0\n__________________________________________________________________________________________________\n"
     ]
    }
   ],
   "source": [
    "model = get_siamese_model((105,105,1))\n",
    "model.compile(loss = \"binary_crossentropy\", optimizer=\"adam\", metrics=[\"accuracy\"])\n",
    "model.summary()"
   ]
  },
  {
   "cell_type": "code",
   "execution_count": null,
   "metadata": {},
   "outputs": [],
   "source": [
    "model.fit([train_pairs[:,0], train_pairs[:,1]], train_labels[:], batch_size=16, epochs=1)"
   ]
  },
  {
   "cell_type": "code",
   "execution_count": null,
   "metadata": {},
   "outputs": [],
   "source": []
  }
 ]
}