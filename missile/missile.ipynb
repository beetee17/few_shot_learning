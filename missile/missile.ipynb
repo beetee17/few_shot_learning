{
 "metadata": {
  "language_info": {
   "codemirror_mode": {
    "name": "ipython",
    "version": 3
   },
   "file_extension": ".py",
   "mimetype": "text/x-python",
   "name": "python",
   "nbconvert_exporter": "python",
   "pygments_lexer": "ipython3",
   "version": "3.9.4"
  },
  "orig_nbformat": 2,
  "kernelspec": {
   "name": "python394jvsc74a57bd0dcacb0086e9a4f4eabd41c33bf4faac5ea0a3337ed3f5eff0680afa930572c04",
   "display_name": "Python 3.9.4 64-bit"
  }
 },
 "nbformat": 4,
 "nbformat_minor": 2,
 "cells": [
  {
   "cell_type": "code",
   "execution_count": null,
   "metadata": {},
   "outputs": [],
   "source": [
    "import sys\n",
    "sys.path.append('c:\\\\Users\\\\Admin\\\\few_shot_learning\\\\')\n",
    "\n",
    "from Utils.Class import Predictor, FSL, Random, Nearest_Neighbour\n",
    "from Utils.saveLoad import save_data, load_data\n",
    "from Utils import testModels, buildModel, utils\n",
    "\n",
    "import preprocess\n",
    "\n",
    "import numpy as np\n",
    "import os\n",
    "import random\n",
    "\n",
    "from matplotlib import pyplot as plt\n",
    "\n",
    "from sklearn.model_selection import train_test_split\n"
   ]
  },
  {
   "source": [
    "Get all the file names into a dict, where the key is the class name and value is a list of filenames for that class"
   ],
   "cell_type": "markdown",
   "metadata": {}
  },
  {
   "cell_type": "code",
   "execution_count": null,
   "metadata": {},
   "outputs": [],
   "source": [
    "missile_dir = r'C:\\Users\\Admin\\few_shot_learning\\missile\\data\\missile'\n",
    "missiles = os.listdir(missile_dir)\n",
    "all_imgs_dir = {}\n",
    "\n",
    "for missile in missiles:\n",
    "    imgs_dir = r'{}\\{}'.format(missile_dir, missile)\n",
    "    imgs = os.listdir(imgs_dir)\n",
    "    imgs = [r'{}\\{}'.format(imgs_dir, fn.strip()) for fn in imgs]\n",
    "    all_imgs_dir.update({missile : imgs})"
   ]
  },
  {
   "cell_type": "code",
   "execution_count": null,
   "metadata": {},
   "outputs": [],
   "source": [
    "uav_dir = r'C:\\Users\\Admin\\few_shot_learning\\missile\\data\\uav'\n",
    "uavs = os.listdir(uav_dir)\n",
    "\n",
    "for uav in uavs:\n",
    "    imgs_dir = r'{}\\{}'.format(uav_dir, uav)\n",
    "    imgs = os.listdir(imgs_dir)\n",
    "    imgs = [r'{}\\{}'.format(imgs_dir, fn.strip()) for fn in imgs]\n",
    "    all_imgs_dir.update({uav : imgs})"
   ]
  },
  {
   "cell_type": "code",
   "execution_count": null,
   "metadata": {},
   "outputs": [],
   "source": [
    "print(list(all_imgs_dir.keys()))\n",
    "print(all_imgs_dir['aster'][0])"
   ]
  },
  {
   "source": [
    "ensure our filenames have been compiled correctly, and test our pad_and_resize function"
   ],
   "cell_type": "markdown",
   "metadata": {}
  },
  {
   "cell_type": "code",
   "execution_count": null,
   "metadata": {},
   "outputs": [],
   "source": [
    "img = plt.imread(all_imgs_dir['aster'][5])\n",
    "plt.figure()\n",
    "plt.imshow(img)\n",
    "print(img.shape)\n",
    "\n",
    "plt.figure()\n",
    "new_img = preprocess.pad_and_resize(img, desired_ratio=1.4, width=280, height=200)\n",
    "plt.imshow(new_img)\n",
    "print(new_img.shape)\n",
    "print(type(new_img))"
   ]
  },
  {
   "source": [
    "load the preprocessed data that we require (if any)"
   ],
   "cell_type": "markdown",
   "metadata": {}
  },
  {
   "cell_type": "code",
   "execution_count": null,
   "metadata": {},
   "outputs": [],
   "source": [
    "kwargs = {'X' : True,\n",
    "          'Y' : True,\n",
    "          # 'all_pairs' : True,\n",
    "          # 'all_labels' : True,\n",
    "          # 'all_raw_labels' : True,\n",
    "          'train_pairs' : True,\n",
    "          'train_labels' : True,\n",
    "          'val_pairs' : True,\n",
    "          'val_labels' : True,\n",
    "        #   'test_pairs': True,\n",
    "        #   'test_labels' : True\n",
    "        \n",
    "        }\n",
    "        \n",
    "data = load_data(path='preprocess\\\\', **kwargs)\n"
   ]
  },
  {
   "source": [
    "preprocessing stuff"
   ],
   "cell_type": "markdown",
   "metadata": {}
  },
  {
   "cell_type": "code",
   "execution_count": null,
   "metadata": {},
   "outputs": [],
   "source": [
    "X, Y = preprocess.get_all_X_Y(all_imgs_dir, desired_ratio=1.4, width=280, height=200)"
   ]
  },
  {
   "cell_type": "code",
   "execution_count": null,
   "metadata": {},
   "outputs": [],
   "source": [
    "pos_pairs, pos_labels, pos_raw_labels = preprocess.make_positive_pairs(data['X'], data['Y'], list(all_imgs_dir.keys()), N=10000)"
   ]
  },
  {
   "cell_type": "code",
   "execution_count": null,
   "metadata": {},
   "outputs": [],
   "source": [
    "neg_pairs, neg_labels, neg_raw_labels = preprocess.make_negative_pairs(data['X'], data['Y'], N=10000)"
   ]
  },
  {
   "cell_type": "code",
   "execution_count": null,
   "metadata": {},
   "outputs": [],
   "source": [
    "utils.show_pairs(5, data['all_pairs'], data['all_labels'], data['all_raw_labels'], random=True)"
   ]
  },
  {
   "source": [
    "split our dataset twice to get training, testing and validation sets"
   ],
   "cell_type": "markdown",
   "metadata": {}
  },
  {
   "cell_type": "code",
   "execution_count": null,
   "metadata": {},
   "outputs": [],
   "source": [
    "all_train_pairs, test_pairs, all_train_labels, test_labels = train_test_split(data['all_pairs'], data['all_labels'], test_size=0.2, random_state=42)\n",
    "\n",
    "train_pairs, val_pairs, train_labels, val_labels = train_test_split(all_train_pairs, all_train_labels, test_size=0.2, random_state=50)\n",
    "\n",
    "print(train_pairs.shape, val_pairs.shape, test_pairs.shape)"
   ]
  },
  {
   "source": [
    "We can create a new prototype model to train"
   ],
   "cell_type": "markdown",
   "metadata": {}
  },
  {
   "cell_type": "code",
   "execution_count": null,
   "metadata": {},
   "outputs": [],
   "source": [
    "import keras\n",
    "import tensorflow as tf\n",
    "\n",
    "from keras.models import load_model\n",
    "\n",
    "from keras.callbacks import History \n",
    "\n",
    "from keras.optimizers import Adam\n",
    "from keras import backend as K"
   ]
  },
  {
   "source": [
    "new_model = buildModel.get_pretrained_model((200, 280, 3))\n",
    "new_model.summary()"
   ],
   "cell_type": "code",
   "metadata": {},
   "execution_count": null,
   "outputs": []
  },
  {
   "cell_type": "code",
   "execution_count": null,
   "metadata": {},
   "outputs": [],
   "source": [
    "val_inputs = [data['val_pairs'][:,0], data['val_pairs'][:,1]]"
   ]
  },
  {
   "cell_type": "code",
   "execution_count": null,
   "metadata": {},
   "outputs": [],
   "source": [
    "train_inputs = [data['train_pairs'][:,0], data['train_pairs'][:,1]]"
   ]
  },
  {
   "cell_type": "code",
   "execution_count": null,
   "metadata": {},
   "outputs": [],
   "source": [
    "optimizer = Adam(lr = 0.0001)\n",
    "new_model.compile(loss = \"binary_crossentropy\", optimizer=optimizer, metrics=[\"accuracy\"])\n",
    "hist = History()\n",
    "\n",
    "new_model.fit(train_inputs, data['train_labels'][:], batch_size=64, epochs=5, callbacks=[buildModel.EarlyStoppingAtMinLoss(patience=1, val_inputs=val_inputs, val_labels=data['val_labels'][:]), hist])"
   ]
  },
  {
   "source": [
    "Visualise its learning curve"
   ],
   "cell_type": "markdown",
   "metadata": {}
  },
  {
   "cell_type": "code",
   "execution_count": null,
   "metadata": {},
   "outputs": [],
   "source": [
    "with open('plots/LC_vgg16_dict.txt', 'r') as f:\n",
    "    contents = f.read()\n",
    "    hist_dict = eval(contents)\n",
    "# for k, v in hist.history.items():\n",
    "#     hist_dict[k] = (hist_dict[k] + hist.history[k])[:]"
   ]
  },
  {
   "cell_type": "code",
   "execution_count": null,
   "metadata": {},
   "outputs": [],
   "source": [
    "X = range(1, len(hist_dict['loss']) + 1)\n",
    "for k, v in hist_dict.items():\n",
    "    if 'loss' in k:\n",
    "        plt.plot(X, v, label=k)\n",
    "\n",
    "plt.xlabel('Epoch')\n",
    "plt.xticks(range(0, len(hist_dict['loss']) + 1, 5))\n",
    "plt.xlim(X[0], X[-1]+1)\n",
    "\n",
    "plt.ylabel('Mean Loss')\n",
    "plt.legend()\n",
    "# plt.savefig('plots/LC_vgg16_missile.pdf')\n",
    "plt.show()\n",
    "    "
   ]
  },
  {
   "source": [
    "Or we can load a saved model for evaluation or to continue training"
   ],
   "cell_type": "markdown",
   "metadata": {}
  },
  {
   "cell_type": "code",
   "execution_count": null,
   "metadata": {},
   "outputs": [],
   "source": [
    "model = load_model('models\\\\vgg16_missile_early_stop')"
   ]
  },
  {
   "cell_type": "code",
   "execution_count": null,
   "metadata": {},
   "outputs": [],
   "source": [
    "N = range(1,5)\n",
    "NUM_TESTS = 10\n",
    "accuracies = testModels.get_accuracy([FSL(model, name='FSL (Pretrained) (Early Stop)')], data['X'], data['Y'], N, NUM_TESTS)"
   ]
  },
  {
   "cell_type": "code",
   "execution_count": null,
   "metadata": {},
   "outputs": [],
   "source": [
    "testModels.plot_accuracy(accuracies)"
   ]
  },
  {
   "cell_type": "code",
   "execution_count": null,
   "metadata": {},
   "outputs": [],
   "source": [
    "test_inputs = [data['test_pairs'][:,0], data['test_pairs'][:,1]]"
   ]
  },
  {
   "cell_type": "code",
   "execution_count": null,
   "metadata": {},
   "outputs": [],
   "source": [
    "model.evaluate(x=test_inputs, y=data['test_labels'])"
   ]
  }
 ]
}